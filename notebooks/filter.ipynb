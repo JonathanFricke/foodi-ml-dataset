{
 "cells": [
  {
   "cell_type": "code",
   "execution_count": 2,
   "id": "67b1ce8a",
   "metadata": {},
   "outputs": [],
   "source": [
    "import pandas as pd\n",
    "import os"
   ]
  },
  {
   "cell_type": "markdown",
   "id": "dd9500f7",
   "metadata": {},
   "source": [
    "Filter csv to only include drink data"
   ]
  },
  {
   "cell_type": "code",
   "execution_count": null,
   "id": "550318de",
   "metadata": {},
   "outputs": [],
   "source": [
    "# Define multilingual drink-related keywords (add more as needed)\n",
    "drink_keywords = [\n",
    "    # English\n",
    "    \"drink\", \"drinks\", \"beverage\", \"soda\", \"juice\", \"wine\", \"beer\", \"coffee\", \"tea\",\n",
    "    \"smoothie\", \"milk\", \"milkshake\", \"cocktail\", \"mocktail\", \"sparkling water\", \"mineral water\",\n",
    "    \"bubbly\", \"hydration\", \"energy drink\", \"sports drink\", \"soft drink\", \"flavored water\",\n",
    "    \"bottled water\", \"spring water\", \"carbonated water\", \"water\", \"infused water\",\n",
    "    \n",
    "    # Spanish\n",
    "    \"bebida\", \"bebidas\", \"trago\", \"tragos\", \"refresco\", \"zumo\", \"jugo\", \"vino\", \"cerveza\", \"café\", \"té\",\n",
    "    \"agua\", \"agua mineral\", \"agua con gas\", \"licuado\", \"batido\", \"refrescos\", \"agua embotellada\", \"agua saborizada\",\n",
    "    \n",
    "    # French\n",
    "    \"boisson\", \"boissons\", \"jus\", \"soda\", \"vin\", \"bière\", \"café\", \"thé\",\n",
    "    \"eau\", \"eau minérale\", \"eau gazeuse\", \"milkshake\", \"cocktail\", \"liqueur\", \"infusion\", \"tisane\", \"boisson énergétique\",\n",
    "    \n",
    "    # Polish\n",
    "    \"napój\", \"napoje\", \"sok\", \"piwo\", \"wino\", \"kawa\", \"herbata\",\n",
    "    \"woda\", \"woda gazowana\", \"koktajl\", \"napój energetyczny\", \"mleko\", \"napój izotoniczny\", \"herbatka\",\n",
    "    \n",
    "    # Portuguese\n",
    "    \"suco\", \"sumo\", \"refrigerante\", \"vinho\", \"cerveja\", \"chá\",\n",
    "    \"água\", \"água com gás\", \"leite\", \"batido\", \"coquetel\", \"isotônico\", \"energético\",\n",
    "    \n",
    "    # German\n",
    "    \"getränk\", \"getränke\", \"saft\", \"bier\", \"wein\", \"kaffee\", \"tee\",\n",
    "    \"wasser\", \"mineralwasser\", \"sprudel\", \"milch\", \"cocktail\", \"saftschorle\", \"energydrink\", \"erfrischungsgetränk\",\n",
    "    \n",
    "    # Turkish\n",
    "    \"içecek\", \"kola\", \"meyve suyu\", \"kahve\", \"çay\", \"bira\", \"şarap\", \"rakı\",\n",
    "    \"su\", \"soda\", \"şalgam\", \"ayran\", \"enerji içeceği\", \"gazoz\", \"süt\", \"kokteyl\",\n",
    "    \n",
    "    # Ukrainian/Russian\n",
    "    \"напиток\", \"напитки\", \"сок\", \"вино\", \"пиво\", \"кофе\", \"чай\",\n",
    "    \"вода\", \"минеральная вода\", \"газировка\", \"коктейль\", \"энергетик\", \"молоко\", \"кефир\",\n",
    "    \n",
    "    # Romanian\n",
    "    \"băutură\", \"băuturi\", \"suc\", \"bere\", \"cafea\", \"ceai\",\n",
    "    \"apă\", \"apă minerală\", \"apă plată\", \"lapte\", \"cocktail\", \"energizant\", \"sifon\", \"suc natural\",\n",
    "    \n",
    "    # Georgian\n",
    "    \"სასმელი\", \"ღვინო\", \"ლუდი\", \"ყავა\", \"ჩაი\",\n",
    "    \"წყალი\", \"მინერალური წყალი\", \"კოქტეილი\", \"რძე\", \"ენერგეტიკული სასმელი\",\n",
    "    \n",
    "    # Arabic\n",
    "    \"مشروب\", \"مشروبات\", \"عصير\", \"قهوة\", \"شاي\", \"نبيذ\", \"بيرة\", \"شراب\",\n",
    "    \"ماء\", \"مياه\", \"مياه معدنية\", \"مشروب طاقة\", \"ماء غازي\", \"كوكتيل\", \"حليب\"\n",
    "]\n",
    "\n",
    "# Normalize keywords (lowercase only)\n",
    "drink_keywords = [k.lower() for k in drink_keywords]\n",
    "\n",
    "# Helper function\n",
    "def contains_drink_keyword(row):\n",
    "    # combined = ' '.join([\n",
    "    #     str(row.get('collection_section', '')),\n",
    "    #     str(row.get('product_name', '')),\n",
    "    #     str(row.get('product_description', ''))\n",
    "    # ]).lower()\n",
    "    # return any(k in combined for k in drink_keywords)\n",
    "    return row.get('collection_section', '') in drink_keywords\n",
    "\n",
    "# Process in chunks to save memory\n",
    "chunksize = 100_000\n",
    "abs_path = os.path.join(os.getcwd(), '..', 'data')\n",
    "\n",
    "input_file = os.path.join(abs_path, 'glovo-foodi-ml-dataset.csv')\n",
    "\n",
    "output_file = os.path.join(abs_path, 'glovo-foodi-ml-dataset_filtered.csv')\n",
    "first_chunk = True\n",
    "\n",
    "for chunk in pd.read_csv(input_file, chunksize=chunksize):\n",
    "    mask = chunk.apply(contains_drink_keyword, axis=1)\n",
    "    filtered_chunk = chunk[mask]\n",
    "    filtered_chunk.to_csv(output_file, mode='a', index=False, header=first_chunk)\n",
    "    first_chunk = False\n"
   ]
  },
  {
   "cell_type": "markdown",
   "id": "2fbdf086",
   "metadata": {},
   "source": [
    "Convert csv in txt list of paths"
   ]
  },
  {
   "cell_type": "code",
   "execution_count": null,
   "id": "96ca421f",
   "metadata": {},
   "outputs": [],
   "source": [
    "abs_path = os.path.join(os.getcwd(), '..', 'data')\n",
    "download_file = os.path.join(abs_path, 's3_paths.txt')\n",
    "filtered_file = os.path.join(abs_path, 'glovo-foodi-ml-dataset_filtered.csv')\n",
    "\n",
    "df = pd.read_csv(filtered_file)\n",
    "\n",
    "# Update this if your column has a different name\n",
    "df[\"s3_path\"].to_csv(download_file, index=False, header=False)"
   ]
  }
 ],
 "metadata": {
  "kernelspec": {
   "display_name": "awsproject",
   "language": "python",
   "name": "python3"
  },
  "language_info": {
   "codemirror_mode": {
    "name": "ipython",
    "version": 3
   },
   "file_extension": ".py",
   "mimetype": "text/x-python",
   "name": "python",
   "nbconvert_exporter": "python",
   "pygments_lexer": "ipython3",
   "version": "3.11.13"
  }
 },
 "nbformat": 4,
 "nbformat_minor": 5
}
